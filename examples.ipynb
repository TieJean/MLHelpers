{
 "cells": [
  {
   "cell_type": "code",
   "execution_count": 6,
   "id": "c3a8eef9-7c38-493c-a783-20e47ebc6f49",
   "metadata": {},
   "outputs": [],
   "source": [
    "import torch\n",
    "import torch.optim as optim"
   ]
  },
  {
   "cell_type": "markdown",
   "id": "28115a4c-e5cd-4eb6-8ccd-5d11011c9ade",
   "metadata": {},
   "source": [
    "# Energy Model"
   ]
  },
  {
   "cell_type": "code",
   "execution_count": 9,
   "id": "9f0d42a2-52a1-447d-a640-8077964cc253",
   "metadata": {},
   "outputs": [
    {
     "ename": "TypeError",
     "evalue": "sqrt(): argument 'input' (position 1) must be Tensor, not float",
     "output_type": "error",
     "traceback": [
      "\u001b[0;31m---------------------------------------------------------------------------\u001b[0m",
      "\u001b[0;31mTypeError\u001b[0m                                 Traceback (most recent call last)",
      "Cell \u001b[0;32mIn[9], line 18\u001b[0m\n\u001b[1;32m     16\u001b[0m optimizer\u001b[38;5;241m.\u001b[39mzero_grad()\n\u001b[1;32m     17\u001b[0m data_real \u001b[38;5;241m=\u001b[39m data[torch\u001b[38;5;241m.\u001b[39mrandperm(\u001b[38;5;28mlen\u001b[39m(data))[:batch_size]]\n\u001b[0;32m---> 18\u001b[0m data_fake \u001b[38;5;241m=\u001b[39m energy_model\u001b[38;5;241m.\u001b[39mlangevin_sampler(data_real, n_steps\u001b[38;5;241m=\u001b[39m\u001b[38;5;241m1\u001b[39m, step_size\u001b[38;5;241m=\u001b[39m\u001b[38;5;241m0.001\u001b[39m)\u001b[38;5;241m.\u001b[39mdetach()\n\u001b[1;32m     19\u001b[0m loss \u001b[38;5;241m=\u001b[39m \u001b[38;5;241m-\u001b[39m(energy_model(data_real)\u001b[38;5;241m.\u001b[39mmean() \u001b[38;5;241m-\u001b[39m energy_model(data_fake)\u001b[38;5;241m.\u001b[39mmean())\n\u001b[1;32m     20\u001b[0m loss\u001b[38;5;241m.\u001b[39mbackward()\n",
      "File \u001b[0;32m~/Documents/Education/Implementations/mlHlpers/modules/energy_model.py:27\u001b[0m, in \u001b[0;36mEnergyModel.langevin_sampler\u001b[0;34m(self, x0, n_steps, step_size, record_traj)\u001b[0m\n\u001b[1;32m     25\u001b[0m \u001b[38;5;28;01mfor\u001b[39;00m _ \u001b[38;5;129;01min\u001b[39;00m \u001b[38;5;28mrange\u001b[39m(n_steps):\n\u001b[1;32m     26\u001b[0m     grad_energy \u001b[38;5;241m=\u001b[39m torch\u001b[38;5;241m.\u001b[39mautograd\u001b[38;5;241m.\u001b[39mgrad(\u001b[38;5;28mself\u001b[39m(x)\u001b[38;5;241m.\u001b[39msum(), x)[\u001b[38;5;241m0\u001b[39m]\n\u001b[0;32m---> 27\u001b[0m     x \u001b[38;5;241m=\u001b[39m x \u001b[38;5;241m+\u001b[39m \u001b[38;5;241m.5\u001b[39m\u001b[38;5;241m*\u001b[39mstep_size \u001b[38;5;241m*\u001b[39m grad_energy \u001b[38;5;241m+\u001b[39m torch\u001b[38;5;241m.\u001b[39mrandn_like(x) \u001b[38;5;241m*\u001b[39m torch\u001b[38;5;241m.\u001b[39msqrt(\u001b[38;5;241m2\u001b[39m \u001b[38;5;241m*\u001b[39m step_size)\n\u001b[1;32m     28\u001b[0m     \u001b[38;5;28;01mif\u001b[39;00m record_traj: traj\u001b[38;5;241m.\u001b[39mappend(x\u001b[38;5;241m.\u001b[39mdetach())\n\u001b[1;32m     29\u001b[0m \u001b[38;5;28;01mif\u001b[39;00m record_traj:\n",
      "\u001b[0;31mTypeError\u001b[0m: sqrt(): argument 'input' (position 1) must be Tensor, not float"
     ]
    },
    {
     "data": {
      "image/png": "[encoded data removed]",
      "text/plain": [
       "<Figure size 200x200 with 1 Axes>"
      ]
     },
     "metadata": {},
     "output_type": "display_data"
    }
   ],
   "source": [
    "from modules.mlp import MLP\n",
    "from modules.energy_model import EnergyModel\n",
    "from utils.data import sample_circular_gmm\n",
    "\n",
    "data, data_info = sample_circular_gmm(1000, num_modes=4, viz=True)\n",
    "\n",
    "batch_size = 1000\n",
    "input_dim = 2\n",
    "output_dim = 1\n",
    "mlp = MLP([input_dim, 64, output_dim])\n",
    "energy_model = EnergyModel(mlp, input_dim)\n",
    "\n",
    "optimizer = optim.Adam(energy_model.parameters(), lr=1e-3)\n",
    "\n",
    "for iter in range(5000):\n",
    "    optimizer.zero_grad()\n",
    "    data_real = data[torch.randperm(len(data))[:batch_size]]\n",
    "    data_fake = energy_model.langevin_sampler(data_real, n_steps=1, step_size=0.001).detach()\n",
    "    loss = -(energy_model(data_real).mean() - energy_model(data_fake).mean())\n",
    "    loss.backward()\n",
    "    optimizer.step()\n"
   ]
  },
  {
   "cell_type": "code",
   "execution_count": null,
   "id": "c6f1fd60-5001-4bab-964b-7a1f1e8da3d1",
   "metadata": {},
   "outputs": [],
   "source": []
  },
  {
   "cell_type": "code",
   "execution_count": null,
   "id": "bd199ded-cd76-43f1-bb14-8ff44fc9981f",
   "metadata": {},
   "outputs": [],
   "source": []
  }
 ],
 "metadata": {
  "kernelspec": {
   "display_name": "Python 3 (ipykernel)",
   "language": "python",
   "name": "python3"
  },
  "language_info": {
   "codemirror_mode": {
    "name": "ipython",
    "version": 3
   },
   "file_extension": ".py",
   "mimetype": "text/x-python",
   "name": "python",
   "nbconvert_exporter": "python",
   "pygments_lexer": "ipython3",
   "version": "3.12.2"
  }
 },
 "nbformat": 4,
 "nbformat_minor": 5
}
